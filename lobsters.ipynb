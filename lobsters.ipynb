{
  "cells": [
    {
      "cell_type": "markdown",
      "metadata": {
        "id": "bFeA4vGPbRJ-"
      },
      "source": [
        "To explore how the selection of data analysis tools can fundamentally shape what is highlighted in an investigation, Pimental, Horton, and Wilkerson conducted a comparative analysis using several popular tools from multiple tool genres. This file demonstrates how Python can be used to carry out these analyses. The associated commissioned paper, supplementary materials, RMarkdown file, and dataset can be found at https://nicholasjhorton.github.io/K12-Data-Tools. Thanks to Jay Kienzle for translating the example to Python."
      ]
    },
    {
      "cell_type": "code",
      "execution_count": null,
      "metadata": {
        "id": "8LCxT_3iPVHu"
      },
      "outputs": [],
      "source": [
        "import pandas as pd\n",
        "\n",
        "df = pd.read_csv(r\"https://nicholasjhorton.github.io/K12-Data-Tools/static/fishdata.csv\")\n",
        "df = df[df[\"Common Name\"] == \"American lobster\"]\n",
        "# df[\"Region\"].replace([\"Northeast US Fall\",\"Northeast US Spring\"], \"Northeast US\",\n",
        "#                      inplace=True,\n",
        "#                      )\n",
        "df.head()"
      ]
    },
    {
      "cell_type": "code",
      "execution_count": null,
      "metadata": {
        "id": "FZqD7prIboMY"
      },
      "outputs": [],
      "source": [
        "print(df[\"Region\"].value_counts())\n",
        "print(f\"Total rows: {df.shape[0]}\")"
      ]
    },
    {
      "cell_type": "code",
      "execution_count": null,
      "metadata": {
        "id": "WpligVvheGlp"
      },
      "outputs": [],
      "source": [
        "df[\"Region\"].value_counts(normalize=True)*100"
      ]
    },
    {
      "cell_type": "code",
      "execution_count": null,
      "metadata": {
        "id": "vMQDePsBfl76"
      },
      "outputs": [],
      "source": [
        "df[\"Year\"].value_counts()"
      ]
    },
    {
      "cell_type": "code",
      "execution_count": null,
      "metadata": {
        "id": "2R7t6-5bg8WL"
      },
      "outputs": [],
      "source": [
        "df[\"Latitude\"].describe()"
      ]
    },
    {
      "cell_type": "code",
      "execution_count": null,
      "metadata": {
        "id": "W0C-0fqpiuNT"
      },
      "outputs": [],
      "source": [
        "df[\"Longitude\"].describe()"
      ]
    },
    {
      "cell_type": "code",
      "execution_count": null,
      "metadata": {
        "id": "BWHjVmnL1ICC"
      },
      "outputs": [],
      "source": [
        "import pandas as pd\n",
        "import plotly.express as px\n",
        "\n",
        "fig = px.scatter_mapbox(df, lat=\"Latitude\", lon=\"Longitude\", \n",
        "                        zoom=4.5,\n",
        "                        color=\"Region\"\n",
        "                        )\n",
        "fig.update_layout(mapbox_style=\"open-street-map\")\n",
        "\n",
        "fig.show()"
      ]
    },
    {
      "cell_type": "code",
      "execution_count": null,
      "metadata": {
        "id": "7yEihEns4dPE"
      },
      "outputs": [],
      "source": [
        "import pandas as pd\n",
        "import plotly.express as px\n",
        "\n",
        "fig = px.scatter_mapbox(df, lat=\"Latitude\", lon=\"Longitude\", \n",
        "                        zoom=4.5,\n",
        "                        color=\"Year\"\n",
        "                        )\n",
        "fig.update_layout(mapbox_style=\"open-street-map\")\n",
        "\n",
        "fig.show()"
      ]
    },
    {
      "cell_type": "code",
      "execution_count": null,
      "metadata": {
        "id": "caiVUINvlAGY"
      },
      "outputs": [],
      "source": [
        "import seaborn as sns\n",
        "\n",
        "sns.lmplot(x=\"Year\", y=\"Latitude\", data=df, hue=\"Region\")"
      ]
    }
  ],
  "metadata": {
    "colab": {
      "provenance": []
    },
    "kernelspec": {
      "display_name": "venv",
      "language": "python",
      "name": "python3"
    },
    "language_info": {
      "name": "python",
      "version": "3.8.8"
    },
    "vscode": {
      "interpreter": {
        "hash": "6eb22d5b26b52f72a58540d9844e8e3216cbe562326800e6aa79df17c8969f30"
      }
    }
  },
  "nbformat": 4,
  "nbformat_minor": 0
}
