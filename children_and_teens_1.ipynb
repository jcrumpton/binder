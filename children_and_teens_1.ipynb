{
 "cells": [
  {
   "attachments": {},
   "cell_type": "markdown",
   "metadata": {},
   "source": [
    "## Python Version of Chapter 3: 800 Children and Teens, part 1\n",
    "\n",
    "We will use pandas, an open source data analysis and manipulation tool, to recreate the analysis from [Chapter 3](https://codap.xyz/awash/children-and-teens-1.html) of _Awash in Data_.\n",
    "If you would like to learn more about pandas:\n",
    "* https://pandas.pydata.org/\n",
    "* https://www.w3schools.com/python/pandas/"
   ]
  },
  {
   "attachments": {},
   "cell_type": "markdown",
   "metadata": {},
   "source": [
    "### DataFrames\n",
    "\n",
    "In pandas, a dataframe is a 2 dimensonal data structure. You can think of it as a table with rows and columns. \n",
    "\n",
    "Before we start analyzing data, we must read the data into a dataframe. You can read a CSV (comma separated values) file from your disk or from a website."
   ]
  },
  {
   "cell_type": "code",
   "execution_count": null,
   "metadata": {},
   "outputs": [],
   "source": [
    "import pandas as pd  # tell python that we will be using pandas in our code\n",
    "\n",
    "# the following statement would read the csv file from your computer's storage (hard disk, etc.)\n",
    "# df = pd.read_csv(r\"800_children_and_teens.csv\")  \n",
    "\n",
    "# this statement reads the csv file from a website\n",
    "df = pd.read_csv(r\"https://raw.githubusercontent.com/jcrumpton/binder_test/main/800_children_and_teens.csv\")\n",
    "\n",
    "# display the first several rows of the dataframe, also shows the column names\n",
    "df.head()\n"
   ]
  },
  {
   "attachments": {},
   "cell_type": "markdown",
   "metadata": {},
   "source": [
    "### 3.2 A Specific Question: Who is Taller?\n",
    "\n",
    "Who is taller, males or females?\n",
    "\n",
    "We will use plotly.express (a python library for creating graphs) to plot Height vs. Gender.\n",
    "\n",
    "You can learn more about plotly.express at:\n",
    "* https://plotly.com/python/plotly-express/\n",
    "* https://www.geeksforgeeks.org/python-plotly-tutorial/"
   ]
  },
  {
   "cell_type": "code",
   "execution_count": null,
   "metadata": {},
   "outputs": [],
   "source": [
    "import plotly.express as px\n",
    "\n",
    "fig = px.histogram(df, y='Height', color='Gender')\n",
    "fig.show()"
   ]
  },
  {
   "attachments": {},
   "cell_type": "markdown",
   "metadata": {},
   "source": [
    "We are creating a histogram to see how many males and females there are of each height. The graph is not separated into male and female halves like the graph from CODAP, but we are using colors to differentiate between the genders. We can use [Facet plots](https://plotly.com/python/facet-plots/), figures made up of multiple subplots, to show the gender histograms side by side."
   ]
  },
  {
   "cell_type": "code",
   "execution_count": null,
   "metadata": {},
   "outputs": [],
   "source": [
    "fig = px.histogram(df, y='Height', color='Gender', facet_col='Gender')\n",
    "fig.show()"
   ]
  },
  {
   "attachments": {},
   "cell_type": "markdown",
   "metadata": {},
   "source": [
    "To get the mean height of each gender, we must first __filter__ the data by Gender. We will learn to do this in a bit..."
   ]
  },
  {
   "attachments": {},
   "cell_type": "markdown",
   "metadata": {},
   "source": [
    "### 3.3 Making the Question More Specific\n",
    "\n",
    "__Filter__ the data set to only consider 10 year olds."
   ]
  },
  {
   "cell_type": "code",
   "execution_count": null,
   "metadata": {},
   "outputs": [],
   "source": [
    "age_10 = df[df['Age'] == 10]  # create a new dataframe that only contains rows of df where Age==10\n",
    "age_10.head()"
   ]
  },
  {
   "cell_type": "code",
   "execution_count": null,
   "metadata": {},
   "outputs": [],
   "source": [
    "fig = px.histogram(age_10, y='Height', color='Gender', facet_col='Gender')\n",
    "fig.show()"
   ]
  },
  {
   "attachments": {},
   "cell_type": "markdown",
   "metadata": {},
   "source": [
    "We can change the number of \"bins\" to get more detail."
   ]
  },
  {
   "cell_type": "code",
   "execution_count": null,
   "metadata": {},
   "outputs": [],
   "source": [
    "fig = px.histogram(age_10, y='Height', color='Gender', facet_col='Gender', nbins=35)\n",
    "fig.show()"
   ]
  },
  {
   "attachments": {},
   "cell_type": "markdown",
   "metadata": {},
   "source": [
    "We can __filter__ the age_10 data set into males and females if we want to look at the average heights."
   ]
  },
  {
   "cell_type": "code",
   "execution_count": null,
   "metadata": {},
   "outputs": [],
   "source": [
    "age_10_males = age_10[age_10['Gender']=='Male']\n",
    "age_10_males.describe()  # mean height is 143.17"
   ]
  },
  {
   "cell_type": "code",
   "execution_count": null,
   "metadata": {},
   "outputs": [],
   "source": [
    "age_10_females = age_10[age_10['Gender']=='Female']\n",
    "age_10_females.describe()  # mean height is 146.83"
   ]
  },
  {
   "attachments": {},
   "cell_type": "markdown",
   "metadata": {},
   "source": [
    "Now we can create data subsets for 11, 12, 15, and 17 year olds. But we will learn to _group_ data in Chapter 5 (800 Children and Teens, part two) so we do not have to do this manually."
   ]
  }
 ],
 "metadata": {
  "kernelspec": {
   "display_name": "venv",
   "language": "python",
   "name": "python3"
  },
  "language_info": {
   "codemirror_mode": {
    "name": "ipython",
    "version": 3
   },
   "file_extension": ".py",
   "mimetype": "text/x-python",
   "name": "python",
   "nbconvert_exporter": "python",
   "pygments_lexer": "ipython3",
   "version": "3.8.8"
  },
  "orig_nbformat": 4,
  "vscode": {
   "interpreter": {
    "hash": "6eb22d5b26b52f72a58540d9844e8e3216cbe562326800e6aa79df17c8969f30"
   }
  }
 },
 "nbformat": 4,
 "nbformat_minor": 2
}
