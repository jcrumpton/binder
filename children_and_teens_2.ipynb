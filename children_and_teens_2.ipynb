{
 "cells": [
  {
   "attachments": {},
   "cell_type": "markdown",
   "metadata": {},
   "source": [
    "## Python Version of Chapter 5: 800 Children and Teens, part 2\n",
    "\n",
    "We will use pandas and plotly.express to recreate the analysis from [Chapter 5](https://codap.xyz/awash/children-and-teens-2.html) of _Awash in Data_.\n"
   ]
  },
  {
   "cell_type": "code",
   "execution_count": null,
   "metadata": {},
   "outputs": [],
   "source": [
    "import pandas as pd  # tell python that we will be using pandas in our code\n",
    "\n",
    "# the following statement would read the csv file from your computer's storage (hard disk, etc.)\n",
    "# df = pd.read_csv(r\"800_children_and_teens.csv\")  \n",
    "\n",
    "# this statement reads the csv file from a website\n",
    "df = pd.read_csv(r\"https://raw.githubusercontent.com/jcrumpton/binder_test/main/800_children_and_teens.csv\")\n",
    "\n",
    "# display the first several rows of the dataframe, also shows the column names\n",
    "df.head()\n"
   ]
  },
  {
   "attachments": {},
   "cell_type": "markdown",
   "metadata": {},
   "source": [
    "## Grouping\n",
    "\n",
    "In a moment, we will __group__ our data by age. First, we can approximate grouping by using Age as the x axis in a scatterplot."
   ]
  },
  {
   "cell_type": "code",
   "execution_count": null,
   "metadata": {},
   "outputs": [],
   "source": [
    "# Needed to display graphs in Visual Studio Code\n",
    "# import plotly.io as pio\n",
    "# pio.renderers.default = \"notebook\"\n",
    "\n",
    "import plotly.express as px\n",
    "\n",
    "fig = px.scatter(df, x='Age', y='Height')\n",
    "fig.show()"
   ]
  },
  {
   "attachments": {},
   "cell_type": "markdown",
   "metadata": {},
   "source": [
    "We don't know which dots correspond to Males and Females. Use the color attribute when creating the scatterplot to show the genders. This is similar to dragging an attribute onto a graph in CODAP."
   ]
  },
  {
   "cell_type": "code",
   "execution_count": null,
   "metadata": {},
   "outputs": [],
   "source": [
    "fig = px.scatter(df, x='Age', y='Height', color='Gender')\n",
    "fig.show()"
   ]
  },
  {
   "attachments": {},
   "cell_type": "markdown",
   "metadata": {},
   "source": [
    "This is still a little muddled. Let's actually group by age and gender so we can calculate means for each subgroup. First, get rid of the columns that we don't need."
   ]
  },
  {
   "cell_type": "code",
   "execution_count": null,
   "metadata": {},
   "outputs": [],
   "source": [
    "subset = df[['Age', 'Gender', 'Height']]\n",
    "subset.head()"
   ]
  },
  {
   "attachments": {},
   "cell_type": "markdown",
   "metadata": {},
   "source": [
    "We use the \"groupby\" method to divide the data frame (data set) into groups based on attribute values. Here we group by Age and then see how many people there are of each age."
   ]
  },
  {
   "cell_type": "code",
   "execution_count": null,
   "metadata": {},
   "outputs": [],
   "source": [
    "groups = subset.groupby('Age')\n",
    "print(groups.size())"
   ]
  },
  {
   "attachments": {},
   "cell_type": "markdown",
   "metadata": {},
   "source": [
    "We can group on Age and Gender to separate the data in 5 year old boys, 5 year old girls, etc."
   ]
  },
  {
   "cell_type": "code",
   "execution_count": null,
   "metadata": {},
   "outputs": [],
   "source": [
    "groups = subset.groupby(['Age', 'Gender'])\n",
    "print(groups.size())"
   ]
  },
  {
   "attachments": {},
   "cell_type": "markdown",
   "metadata": {},
   "source": [
    "Finally, we can calculate the mean Height for each subgroup."
   ]
  },
  {
   "cell_type": "code",
   "execution_count": null,
   "metadata": {},
   "outputs": [],
   "source": [
    "heights = subset.groupby(['Age','Gender']).mean(['Height']).reset_index()\n",
    "heights.head()\n"
   ]
  },
  {
   "attachments": {},
   "cell_type": "markdown",
   "metadata": {},
   "source": [
    "Now we have the average height for 5 year old boys, 5 year old girls, 6 year old boys, etc."
   ]
  },
  {
   "cell_type": "code",
   "execution_count": null,
   "metadata": {},
   "outputs": [],
   "source": [
    "fig = px.scatter(heights, x='Age', y='Height', color='Gender')\n",
    "fig.show()"
   ]
  },
  {
   "attachments": {},
   "cell_type": "markdown",
   "metadata": {},
   "source": [
    "We can add [trendlines](https://plotly.com/python-api-reference/generated/plotly.express.trendline_functions.html) if that would help with interpreting the data.\n",
    "* ols: Ordinary Least Squares\n",
    "* lowess: LOcally WEighted Scatterplot Smoothing\n",
    "* expanding\n",
    "* ewm: Exponentially Weighted Moment\n",
    "* rolling\n",
    "\n",
    "Hover over the trendline to see its formula or predicted value."
   ]
  },
  {
   "cell_type": "code",
   "execution_count": null,
   "metadata": {},
   "outputs": [],
   "source": [
    "fig = px.scatter(heights, x='Age', y='Height', color='Gender', trendline='ols')\n",
    "fig.show()"
   ]
  },
  {
   "cell_type": "code",
   "execution_count": null,
   "metadata": {},
   "outputs": [],
   "source": [
    "fig = px.scatter(heights, x='Age', y='Height', color='Gender', trendline='lowess')\n",
    "fig.show()"
   ]
  }
 ],
 "metadata": {
  "kernelspec": {
   "display_name": "venv",
   "language": "python",
   "name": "python3"
  },
  "language_info": {
   "codemirror_mode": {
    "name": "ipython",
    "version": 3
   },
   "file_extension": ".py",
   "mimetype": "text/x-python",
   "name": "python",
   "nbconvert_exporter": "python",
   "pygments_lexer": "ipython3",
   "version": "3.8.8"
  },
  "orig_nbformat": 4,
  "vscode": {
   "interpreter": {
    "hash": "6eb22d5b26b52f72a58540d9844e8e3216cbe562326800e6aa79df17c8969f30"
   }
  }
 },
 "nbformat": 4,
 "nbformat_minor": 2
}
